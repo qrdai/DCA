{
 "cells": [
  {
   "cell_type": "markdown",
   "id": "bf7b93d1",
   "metadata": {},
   "source": [
    "# Test for Utilities in `ContextCite`"
   ]
  },
  {
   "cell_type": "markdown",
   "id": "8961814f",
   "metadata": {},
   "source": [
    "We will use the `ContextCiter` class to attribute models' responses to sources within the context we provide to them."
   ]
  },
  {
   "cell_type": "code",
   "execution_count": 1,
   "id": "cf95a32e",
   "metadata": {},
   "outputs": [],
   "source": [
    "import os\n",
    "import torch"
   ]
  },
  {
   "cell_type": "code",
   "execution_count": 2,
   "id": "c3bf2114",
   "metadata": {},
   "outputs": [
    {
     "name": "stdout",
     "output_type": "stream",
     "text": [
      "/root/autodl-tmp/context-cite\n"
     ]
    }
   ],
   "source": [
    "# for contextcite-custom\n",
    "os.chdir('..')  # Move up one directory level\n",
    "print(os.getcwd())  # Print the current working directory to confirm the change"
   ]
  },
  {
   "cell_type": "code",
   "execution_count": 3,
   "id": "6fad41b3-3bcc-45cd-a1d3-2b382071360d",
   "metadata": {},
   "outputs": [
    {
     "name": "stderr",
     "output_type": "stream",
     "text": [
      "[nltk_data] Downloading package punkt_tab to /root/nltk_data...\n",
      "[nltk_data]   Package punkt_tab is already up-to-date!\n"
     ]
    }
   ],
   "source": [
    "from context_cite import ContextCiter\n",
    "cache_dir = \"/root/autodl-tmp/.cache/huggingface/transformers\"\n",
    "\n",
    "model_kwargs = {\n",
    "    \"cache_dir\": cache_dir,\n",
    "    \"torch_dtype\": torch.bfloat16,  # torch.bfloat16 / torch.float32\n",
    "}\n",
    "\n",
    "tokenizer_kwargs = {\n",
    "    \"cache_dir\": cache_dir,\n",
    "}\n",
    "\n",
    "model_name_or_path = \"meta-llama/Llama-3.2-3B-Instruct\""
   ]
  },
  {
   "cell_type": "markdown",
   "id": "5bec308b",
   "metadata": {},
   "source": [
    "### Example 1 (line `3` in MedQA-USMLE-test)"
   ]
  },
  {
   "cell_type": "markdown",
   "id": "d9b4c6db",
   "metadata": {},
   "source": [
    "- This test example heavily relies on information in context, so should have high attribution scores"
   ]
  },
  {
   "cell_type": "code",
   "execution_count": 4,
   "id": "eaab9e3b",
   "metadata": {},
   "outputs": [],
   "source": [
    "context = \"\"\"\n",
    "Two weeks after undergoing an emergency cardiac catherization with stenting for unstable angina pectoris, a 61-year-old man has decreased urinary output and malaise. He has type 2 diabetes mellitus and osteoarthritis of the hips. Prior to admission, his medications were insulin and naproxen. He was also started on aspirin, clopidogrel, and metoprolol after the coronary intervention. His temperature is 38\\u00b0C (100.4\\u00b0F), pulse is 93\\/min, and blood pressure is 125\\/85 mm Hg. Examination shows mottled, reticulated purplish discoloration of the feet. Laboratory studies show:\\nHemoglobin count 14 g\\/dL\\nLeukocyte count 16,400\\/mm3\\nSegmented neutrophils 56%\\nEosinophils 11%\\nLymphocytes 31%\\nMonocytes 2%\\nPlatelet count 260,000\\/mm3\\nErythrocyte sedimentation rate 68 mm\\/h\\nSerum\\nUrea nitrogen 25 mg\\/dL\\nCreatinine 4.2 mg\\/dL\\nRenal biopsy shows intravascular spindle-shaped vacuoles.\n",
    "\"\"\"\n",
    "\n",
    "# NOTE: formatting requirement omitted: Conclude your answer with: \"Therefore, the final answer is ...\".\n",
    "# it encourages the model to only analyze the (self-identified) correct answer, and don't spend tokens on other options\n",
    "# but NOT needed during ctx attribution; only needed during final evaluation\n",
    "query = \"\"\"\n",
    "Which of the following is the correct next action for the resident to take?\n",
    "\n",
    "A. Renal papillary necrosis\n",
    "B. Cholesterol embolization\n",
    "C. Eosinophilic granulomatosis with polyangiitis\n",
    "D. Polyarteritis nodosa\n",
    "\"\"\""
   ]
  },
  {
   "cell_type": "markdown",
   "id": "710879b9",
   "metadata": {},
   "source": [
    "### Example 2 (line `11` in MedQA-USMLE-test)"
   ]
  },
  {
   "cell_type": "markdown",
   "id": "7e5cf115",
   "metadata": {},
   "source": [
    "- This test example barely relies on information in context, so should have low attribution scores"
   ]
  },
  {
   "cell_type": "code",
   "execution_count": 18,
   "id": "3af4d647",
   "metadata": {},
   "outputs": [],
   "source": [
    "context = \"\"\"\n",
    "A 24-year-old G2P1 woman at 39 weeks\\u2019 gestation presents to the emergency department complaining of painful contractions occurring every 10 minutes for the past 2 hours, consistent with latent labor. She says she has not experienced vaginal discharge, bleeding, or fluid leakage, and is currently taking no medications. On physical examination, her blood pressure is 110\\/70 mm Hg, heart rate is 86\\/min, and temperature is 37.6\\u00b0C (99.7\\u00b0F). She has had little prenatal care and uses condoms inconsistently. Her sexually transmitted infections status is unknown. As part of the patient\\u2019s workup, she undergoes a series of rapid screening tests that result in the administration of zidovudine during delivery. The infant is also given zidovudine to reduce the risk of transmission. A confirmatory test is then performed in the mother to confirm the diagnosis of HIV.\n",
    "\"\"\"\n",
    "\n",
    "query = \"\"\"\n",
    "Which of the following is most true about the confirmatory test?\n",
    "\n",
    "A. It is a Southwestern blot, identifying the presence of DNA-binding proteins\n",
    "B. It is a Northern blot, identifying the presence of RNA\n",
    "C. It is a Northern blot, identifying the presence of DNA\n",
    "D. It is an HIV-1\\/HIV2 antibody differentiation immunoassay\n",
    "\"\"\""
   ]
  },
  {
   "cell_type": "markdown",
   "id": "f6b21a01",
   "metadata": {},
   "source": [
    "### The `ContextCiter` class"
   ]
  },
  {
   "cell_type": "markdown",
   "id": "dfe847b5",
   "metadata": {},
   "source": [
    "We can directly instantiate the `ContextCiter` class with a huggingface-style `pretrained_model_name_or_path`, together with a `context`, and a `query` (passed in as strings)."
   ]
  },
  {
   "cell_type": "code",
   "execution_count": null,
   "id": "e388e300",
   "metadata": {},
   "outputs": [],
   "source": [
    "cc = ContextCiter.from_pretrained(\n",
    "    model_name_or_path, \n",
    "    context=context, \n",
    "    query=query,\n",
    "    model_kwargs=model_kwargs,\n",
    "    tokenizer_kwargs=tokenizer_kwargs,\n",
    ")"
   ]
  },
  {
   "cell_type": "markdown",
   "id": "2c965106",
   "metadata": {},
   "source": [
    "Alternatively, we can pass in a `model` and a `tokenizer`, which are instantiated from the `huggingface` library:"
   ]
  },
  {
   "cell_type": "code",
   "execution_count": 5,
   "id": "48d1d805",
   "metadata": {},
   "outputs": [
    {
     "data": {
      "application/vnd.jupyter.widget-view+json": {
       "model_id": "a0f944e2d2604e3c8564096300a97c24",
       "version_major": 2,
       "version_minor": 0
      },
      "text/plain": [
       "Loading checkpoint shards:   0%|          | 0/2 [00:00<?, ?it/s]"
      ]
     },
     "metadata": {},
     "output_type": "display_data"
    },
    {
     "name": "stdout",
     "output_type": "stream",
     "text": [
      "[INFO] Initializing `ContextCiter` from local customized context_cite\n"
     ]
    }
   ],
   "source": [
    "from transformers import AutoTokenizer, AutoModelForCausalLM\n",
    "tokenizer = AutoTokenizer.from_pretrained(\n",
    "    model_name_or_path,\n",
    "    **tokenizer_kwargs,\n",
    ")\n",
    "model = AutoModelForCausalLM.from_pretrained(\n",
    "    model_name_or_path,\n",
    "    **model_kwargs,\n",
    ")\n",
    "model.to(\"cuda\")\n",
    "cc = ContextCiter(\n",
    "    model, \n",
    "    tokenizer, \n",
    "    context=context, \n",
    "    query=query,\n",
    ")"
   ]
  },
  {
   "cell_type": "markdown",
   "id": "d0d861e2",
   "metadata": {},
   "source": [
    "The `response` property of the ContextCiter class contains the response generated by the model. It is lazily generated when you access it."
   ]
  },
  {
   "cell_type": "code",
   "execution_count": 6,
   "id": "d7e3f6dd",
   "metadata": {},
   "outputs": [
    {
     "name": "stderr",
     "output_type": "stream",
     "text": [
      "The attention mask and the pad token id were not set. As a consequence, you may observe unexpected behavior. Please pass your input's `attention_mask` to obtain reliable results.\n",
      "Setting `pad_token_id` to `eos_token_id`:128001 for open-end generation.\n"
     ]
    },
    {
     "name": "stderr",
     "output_type": "stream",
     "text": [
      "The attention mask is not set and cannot be inferred from input because pad token is same as eos token. As a consequence, you may observe unexpected behavior. Please pass your input's `attention_mask` to obtain reliable results.\n"
     ]
    },
    {
     "name": "stdout",
     "output_type": "stream",
     "text": [
      "Based on the patient's symptoms and laboratory results, the correct next action for the resident to take is:\n",
      "\n",
      "B. Cholesterol embolization\n",
      "\n",
      "The patient's presentation of decreased urinary output, malaise, and elevated erythrocyte sedimentation rate (ESR) after a recent cardiac catheterization with stenting is highly suggestive of cholesterol embolization syndrome (CES). CES is a condition that occurs when cholesterol crystals are dislodged from the atherosclerotic plaques in the arterial system and embolized to the kidneys, leading to acute kidney injury (AKI).\n",
      "\n",
      "The renal biopsy findings of intravascular spindle-shaped vacuoles are consistent with CES, which is characterized by the presence of these vacuoles in the renal vessels.\n",
      "\n",
      "The other options are less likely:\n",
      "\n",
      "A. Renal papillary necrosis is a condition that typically presents with severe pain and hematuria, but it is not directly related to the patient's recent cardiac catheterization.\n",
      "\n",
      "C. Eosinophilic granulomatosis with polyangiitis (EGPA) is a rare autoimmune disease that can cause kidney damage, but it is not typically associated with the patient's recent medical history.\n",
      "\n",
      "D. Polyarteritis nodosa (PAN) is a systemic vasculitis that can cause kidney damage, but it is not typically associated with the patient's recent cardiac catheterization or the specific renal biopsy findings.\n",
      "\n",
      "Therefore, the resident should consider cholesterol embolization syndrome as the likely diagnosis and take steps to manage the patient's AKI and prevent further complications.<|eot_id|>\n"
     ]
    }
   ],
   "source": [
    "print(cc.response)"
   ]
  },
  {
   "cell_type": "markdown",
   "id": "2c11453a",
   "metadata": {},
   "source": [
    "Under the hood, the `ContextCiter` class applies a chat template to the\n",
    "tokenized context and query, and then uses the model to generate a response.\n",
    "That response is then stored in the `response` property."
   ]
  },
  {
   "cell_type": "markdown",
   "id": "7faa2559",
   "metadata": {},
   "source": [
    "### Attributing the response to sources within the context"
   ]
  },
  {
   "cell_type": "markdown",
   "id": "b4c6f5b5",
   "metadata": {},
   "source": [
    "To attribute the entire response and present the attributions in a human-readable format, we can use the `get_attributions` method, and pass in `as_dataframe=True`, as well as `top_k` to limit the number of sources to include in the attributions."
   ]
  },
  {
   "cell_type": "code",
   "execution_count": 14,
   "id": "846481c8",
   "metadata": {},
   "outputs": [
    {
     "name": "stdout",
     "output_type": "stream",
     "text": [
      "Attributed: Based on the patient's symptoms and laboratory results, the correct next action for the resident to take is:\n",
      "\n",
      "B. Cholesterol embolization\n",
      "\n",
      "The patient's presentation of decreased urinary output, malaise, and elevated erythrocyte sedimentation rate (ESR) after a recent cardiac catheterization with stenting is highly suggestive of cholesterol embolization syndrome (CES). CES is a condition that occurs when cholesterol crystals are dislodged from the atherosclerotic plaques in the arterial system and embolized to the kidneys, leading to acute kidney injury (AKI).\n",
      "\n",
      "The renal biopsy findings of intravascular spindle-shaped vacuoles are consistent with CES, which is characterized by the presence of these vacuoles in the renal vessels.\n",
      "\n",
      "The other options are less likely:\n",
      "\n",
      "A. Renal papillary necrosis is a condition that typically presents with severe pain and hematuria, but it is not directly related to the patient's recent cardiac catheterization.\n",
      "\n",
      "C. Eosinophilic granulomatosis with polyangiitis (EGPA) is a rare autoimmune disease that can cause kidney damage, but it is not typically associated with the patient's recent medical history.\n",
      "\n",
      "D. Polyarteritis nodosa (PAN) is a systemic vasculitis that can cause kidney damage, but it is not typically associated with the patient's recent cardiac catheterization or the specific renal biopsy findings.\n",
      "\n",
      "Therefore, the resident should consider cholesterol embolization syndrome as the likely diagnosis and take steps to manage the patient's AKI and prevent further complications.<|eot_id|>\n"
     ]
    },
    {
     "name": "stderr",
     "output_type": "stream",
     "text": [
      "/root/autodl-tmp/context-cite/context_cite/utils.py:192: FutureWarning: Styler.applymap has been deprecated. Use Styler.map instead.\n",
      "  return df.style.applymap(lambda val: _color_scale(val, max_val), subset=[\"Score\"])\n"
     ]
    },
    {
     "data": {
      "text/html": [
       "<style type=\"text/css\">\n",
       "#T_41cec_row0_col0 {\n",
       "  background-color: rgb(80, 180, 80);\n",
       "}\n",
       "#T_41cec_row1_col0 {\n",
       "  background-color: rgb(np.float64(81.38616244493912), np.float64(180.59406961925964), np.float64(81.38616244493912));\n",
       "}\n",
       "#T_41cec_row2_col0 {\n",
       "  background-color: rgb(np.float64(243.44524847871833), np.float64(250.04796363373643), np.float64(243.44524847871833));\n",
       "}\n",
       "#T_41cec_row3_col0 {\n",
       "  background-color: rgb(np.float64(247.06728799614163), np.float64(251.6002662840607), np.float64(247.06728799614163));\n",
       "}\n",
       "#T_41cec_row4_col0 {\n",
       "  background-color: rgb(np.float64(251.34834004885343), np.float64(253.43500287808004), np.float64(251.34834004885343));\n",
       "}\n",
       "</style>\n",
       "<table id=\"T_41cec\">\n",
       "  <thead>\n",
       "    <tr>\n",
       "      <th class=\"blank level0\" >&nbsp;</th>\n",
       "      <th id=\"T_41cec_level0_col0\" class=\"col_heading level0 col0\" >Score</th>\n",
       "      <th id=\"T_41cec_level0_col1\" class=\"col_heading level0 col1\" >Source</th>\n",
       "    </tr>\n",
       "  </thead>\n",
       "  <tbody>\n",
       "    <tr>\n",
       "      <th id=\"T_41cec_level0_row0\" class=\"row_heading level0 row0\" >0</th>\n",
       "      <td id=\"T_41cec_row0_col0\" class=\"data row0 col0\" >59.143</td>\n",
       "      <td id=\"T_41cec_row0_col1\" class=\"data row0 col1\" >Two weeks after undergoing an emergency cardiac catherization with stenting for unstable angina pectoris, a 61-year-old man has decreased urinary output and malaise.</td>\n",
       "    </tr>\n",
       "    <tr>\n",
       "      <th id=\"T_41cec_level0_row1\" class=\"row_heading level0 row1\" >1</th>\n",
       "      <td id=\"T_41cec_row1_col0\" class=\"data row1 col0\" >58.674</td>\n",
       "      <td id=\"T_41cec_row1_col1\" class=\"data row1 col1\" >Renal biopsy shows intravascular spindle-shaped vacuoles.</td>\n",
       "    </tr>\n",
       "    <tr>\n",
       "      <th id=\"T_41cec_level0_row2\" class=\"row_heading level0 row2\" >2</th>\n",
       "      <td id=\"T_41cec_row2_col0\" class=\"data row2 col0\" >3.905</td>\n",
       "      <td id=\"T_41cec_row2_col1\" class=\"data row2 col1\" >Erythrocyte sedimentation rate 68 mm\\/h</td>\n",
       "    </tr>\n",
       "    <tr>\n",
       "      <th id=\"T_41cec_level0_row3\" class=\"row_heading level0 row3\" >3</th>\n",
       "      <td id=\"T_41cec_row3_col0\" class=\"data row3 col0\" >2.681</td>\n",
       "      <td id=\"T_41cec_row3_col1\" class=\"data row3 col1\" >He was also started on aspirin, clopidogrel, and metoprolol after the coronary intervention.</td>\n",
       "    </tr>\n",
       "    <tr>\n",
       "      <th id=\"T_41cec_level0_row4\" class=\"row_heading level0 row4\" >4</th>\n",
       "      <td id=\"T_41cec_row4_col0\" class=\"data row4 col0\" >1.234</td>\n",
       "      <td id=\"T_41cec_row4_col1\" class=\"data row4 col1\" >Examination shows mottled, reticulated purplish discoloration of the feet.</td>\n",
       "    </tr>\n",
       "  </tbody>\n",
       "</table>\n"
      ],
      "text/plain": [
       "<pandas.io.formats.style.Styler at 0x7f2034e871d0>"
      ]
     },
     "execution_count": 14,
     "metadata": {},
     "output_type": "execute_result"
    }
   ],
   "source": [
    "results_df = cc.get_attributions(as_dataframe=True, top_k=5)   # dataframe format\n",
    "results_df"
   ]
  },
  {
   "cell_type": "markdown",
   "id": "33efa81a",
   "metadata": {},
   "source": [
    "`results` is a pandas styler object; to access the underlying dataframe:"
   ]
  },
  {
   "cell_type": "markdown",
   "id": "464089b9",
   "metadata": {},
   "source": [
    "Alternatively, `.get_attributions()` can return the attribution scores as a `numpy` array, where the `i`th entry corresponds to the attribution score for the `i`th source in the context."
   ]
  },
  {
   "cell_type": "code",
   "execution_count": 12,
   "id": "0baec078",
   "metadata": {},
   "outputs": [
    {
     "name": "stdout",
     "output_type": "stream",
     "text": [
      "Attributed: Based on the patient's symptoms and laboratory results, the correct next action for the resident to take is:\n",
      "\n",
      "B. Cholesterol embolization\n",
      "\n",
      "The patient's presentation of decreased urinary output, malaise, and elevated erythrocyte sedimentation rate (ESR) after a recent cardiac catheterization with stenting is highly suggestive of cholesterol embolization syndrome (CES). CES is a condition that occurs when cholesterol crystals are dislodged from the atherosclerotic plaques in the arterial system and embolized to the kidneys, leading to acute kidney injury (AKI).\n",
      "\n",
      "The renal biopsy findings of intravascular spindle-shaped vacuoles are consistent with CES, which is characterized by the presence of these vacuoles in the renal vessels.\n",
      "\n",
      "The other options are less likely:\n",
      "\n",
      "A. Renal papillary necrosis is a condition that typically presents with severe pain and hematuria, but it is not directly related to the patient's recent cardiac catheterization.\n",
      "\n",
      "C. Eosinophilic granulomatosis with polyangiitis (EGPA) is a rare autoimmune disease that can cause kidney damage, but it is not typically associated with the patient's recent medical history.\n",
      "\n",
      "D. Polyarteritis nodosa (PAN) is a systemic vasculitis that can cause kidney damage, but it is not typically associated with the patient's recent cardiac catheterization or the specific renal biopsy findings.\n",
      "\n",
      "Therefore, the resident should consider cholesterol embolization syndrome as the likely diagnosis and take steps to manage the patient's AKI and prevent further complications.<|eot_id|>\n"
     ]
    },
    {
     "data": {
      "text/plain": [
       "array([59.14268373,  0.        ,  0.        ,  2.68092501,  0.        ,\n",
       "        1.2341084 ,  0.        , -0.        , -0.        , -0.        ,\n",
       "       -0.        ,  0.        ,  0.        ,  0.        ,  3.90502294,\n",
       "        0.        ,  0.        ,  0.        , 58.67421877])"
      ]
     },
     "execution_count": 12,
     "metadata": {},
     "output_type": "execute_result"
    }
   ],
   "source": [
    "results_np = cc.get_attributions(as_dataframe=False)   # numpy array format\n",
    "results_np"
   ]
  },
  {
   "cell_type": "markdown",
   "id": "0f70dbe6",
   "metadata": {},
   "source": [
    "We can then match these attributions to the sources using the `sources` property:"
   ]
  },
  {
   "cell_type": "code",
   "execution_count": 15,
   "id": "4e4ad3d7",
   "metadata": {},
   "outputs": [
    {
     "data": {
      "text/plain": [
       "[('Two weeks after undergoing an emergency cardiac catherization with stenting for unstable angina pectoris, a 61-year-old man has decreased urinary output and malaise.',\n",
       "  np.float64(59.142683727040954)),\n",
       " ('He has type 2 diabetes mellitus and osteoarthritis of the hips.',\n",
       "  np.float64(0.0)),\n",
       " ('Prior to admission, his medications were insulin and naproxen.',\n",
       "  np.float64(0.0)),\n",
       " ('He was also started on aspirin, clopidogrel, and metoprolol after the coronary intervention.',\n",
       "  np.float64(2.680925012239408)),\n",
       " ('His temperature is 38°C (100.4°F), pulse is 93\\\\/min, and blood pressure is 125\\\\/85 mm Hg.',\n",
       "  np.float64(0.0))]"
      ]
     },
     "execution_count": 15,
     "metadata": {},
     "output_type": "execute_result"
    }
   ],
   "source": [
    "list(zip(cc.sources, results_np))[:5]"
   ]
  },
  {
   "cell_type": "markdown",
   "id": "d1c866e0",
   "metadata": {},
   "source": [
    "### Attributing parts of the response"
   ]
  },
  {
   "cell_type": "markdown",
   "id": "0e4a4bef",
   "metadata": {},
   "source": [
    "`.get_attributions()` optionally takes in `start_idx` and `end_idx` to\n",
    "attribute only a part of the response."
   ]
  },
  {
   "cell_type": "markdown",
   "id": "37675ada",
   "metadata": {},
   "source": [
    "To make it easier to attribute parts of the response, the `ContextCiter` class\n",
    "has a utility property `response_with_indices` that contains the response annotated with\n",
    "the index of each word within the response. You can access this with\n",
    "`cc.response_with_indices`."
   ]
  },
  {
   "cell_type": "code",
   "execution_count": 33,
   "id": "11ebb0e6-2bad-436b-a085-7091d4458ae6",
   "metadata": {},
   "outputs": [
    {
     "name": "stdout",
     "output_type": "stream",
     "text": [
      "\u001b[36m[0]\u001b[0mBased \u001b[36m[6]\u001b[0mon \u001b[36m[9]\u001b[0mthe \u001b[36m[13]\u001b[0mpatient\u001b[36m[20]\u001b[0m's \u001b[36m[23]\u001b[0msymptoms \u001b[36m[32]\u001b[0mand \u001b[36m[36]\u001b[0mlaboratory \u001b[36m[47]\u001b[0mresults\u001b[36m[54]\u001b[0m, \u001b[36m[56]\u001b[0mthe \u001b[36m[60]\u001b[0mcorrect \u001b[36m[68]\u001b[0mnext \u001b[36m[73]\u001b[0maction \u001b[36m[80]\u001b[0mfor \u001b[36m[84]\u001b[0mthe \u001b[36m[88]\u001b[0mresident \u001b[36m[97]\u001b[0mto \u001b[36m[100]\u001b[0mtake \u001b[36m[105]\u001b[0mis\u001b[36m[107]\u001b[0m:\u001b[36m[108]\u001b[0m\n",
      "\n",
      "\u001b[36m[110]\u001b[0mB. \u001b[36m[113]\u001b[0mCholesterol \u001b[36m[125]\u001b[0membolization\u001b[36m[137]\u001b[0m\n",
      "\n",
      "\u001b[36m[139]\u001b[0mThe \u001b[36m[143]\u001b[0mpatient\u001b[36m[150]\u001b[0m's \u001b[36m[153]\u001b[0mpresentation \u001b[36m[166]\u001b[0mof \u001b[36m[169]\u001b[0mdecreased \u001b[36m[179]\u001b[0murinary \u001b[36m[187]\u001b[0moutput\u001b[36m[193]\u001b[0m, \u001b[36m[195]\u001b[0mmalaise\u001b[36m[202]\u001b[0m, \u001b[36m[204]\u001b[0mand \u001b[36m[208]\u001b[0melevated \u001b[36m[217]\u001b[0merythrocyte \u001b[36m[229]\u001b[0msedimentation \u001b[36m[243]\u001b[0mrate \u001b[36m[248]\u001b[0m(\u001b[36m[249]\u001b[0mESR\u001b[36m[252]\u001b[0m) \u001b[36m[254]\u001b[0mafter \u001b[36m[260]\u001b[0ma \u001b[36m[262]\u001b[0mrecent \u001b[36m[269]\u001b[0mcardiac \u001b[36m[277]\u001b[0mcatheterization \u001b[36m[293]\u001b[0mwith \u001b[36m[298]\u001b[0mstenting \u001b[36m[307]\u001b[0mis \u001b[36m[310]\u001b[0mhighly \u001b[36m[317]\u001b[0msuggestive \u001b[36m[328]\u001b[0mof \u001b[36m[331]\u001b[0mcholesterol \u001b[36m[343]\u001b[0membolization \u001b[36m[356]\u001b[0msyndrome \u001b[36m[365]\u001b[0m(\u001b[36m[366]\u001b[0mCES\u001b[36m[369]\u001b[0m)\u001b[36m[370]\u001b[0m. \u001b[36m[372]\u001b[0mCES \u001b[36m[376]\u001b[0mis \u001b[36m[379]\u001b[0ma \u001b[36m[381]\u001b[0mcondition \u001b[36m[391]\u001b[0mthat \u001b[36m[396]\u001b[0moccurs \u001b[36m[403]\u001b[0mwhen \u001b[36m[408]\u001b[0mcholesterol \u001b[36m[420]\u001b[0mcrystals \u001b[36m[429]\u001b[0mare \u001b[36m[433]\u001b[0mdislodged \u001b[36m[443]\u001b[0mfrom \u001b[36m[448]\u001b[0mthe \u001b[36m[452]\u001b[0matherosclerotic \u001b[36m[468]\u001b[0mplaques \u001b[36m[476]\u001b[0min \u001b[36m[479]\u001b[0mthe \u001b[36m[483]\u001b[0marterial \u001b[36m[492]\u001b[0msystem \u001b[36m[499]\u001b[0mand \u001b[36m[503]\u001b[0membolized \u001b[36m[513]\u001b[0mto \u001b[36m[516]\u001b[0mthe \u001b[36m[520]\u001b[0mkidneys\u001b[36m[527]\u001b[0m, \u001b[36m[529]\u001b[0mleading \u001b[36m[537]\u001b[0mto \u001b[36m[540]\u001b[0macute \u001b[36m[546]\u001b[0mkidney \u001b[36m[553]\u001b[0minjury \u001b[36m[560]\u001b[0m(\u001b[36m[561]\u001b[0mAKI\u001b[36m[564]\u001b[0m) \u001b[36m[566]\u001b[0mand \u001b[36m[570]\u001b[0mother \u001b[36m[576]\u001b[0msystemic \u001b[36m[585]\u001b[0msymptoms\u001b[36m[593]\u001b[0m.\u001b[36m[594]\u001b[0m\n",
      "\n",
      "\u001b[36m[596]\u001b[0mThe \u001b[36m[600]\u001b[0mrenal \u001b[36m[606]\u001b[0mbiopsy \u001b[36m[613]\u001b[0mshowing \u001b[36m[621]\u001b[0mintravascular \u001b[36m[635]\u001b[0mspindle\u001b[36m[642]\u001b[0m-\u001b[36m[643]\u001b[0mshaped \u001b[36m[650]\u001b[0mvacuoles \u001b[36m[659]\u001b[0mis \u001b[36m[662]\u001b[0mconsistent \u001b[36m[673]\u001b[0mwith \u001b[36m[678]\u001b[0mCES\u001b[36m[681]\u001b[0m, \u001b[36m[683]\u001b[0mwhich \u001b[36m[689]\u001b[0mis \u001b[36m[692]\u001b[0mcharacterized \u001b[36m[706]\u001b[0mby \u001b[36m[709]\u001b[0mthe \u001b[36m[713]\u001b[0mpresence \u001b[36m[722]\u001b[0mof \u001b[36m[725]\u001b[0mcholesterol \u001b[36m[737]\u001b[0mcrystals \u001b[36m[746]\u001b[0mwithin \u001b[36m[753]\u001b[0mthe \u001b[36m[757]\u001b[0mrenal \u001b[36m[763]\u001b[0mvessels\u001b[36m[770]\u001b[0m.\u001b[36m[771]\u001b[0m\n",
      "\n",
      "\u001b[36m[773]\u001b[0mThe \u001b[36m[777]\u001b[0mother \u001b[36m[783]\u001b[0moptions \u001b[36m[791]\u001b[0mare \u001b[36m[795]\u001b[0mless \u001b[36m[800]\u001b[0mlikely\u001b[36m[806]\u001b[0m:\u001b[36m[807]\u001b[0m\n",
      "\n",
      "\u001b[36m[809]\u001b[0mA. \u001b[36m[812]\u001b[0mRenal \u001b[36m[818]\u001b[0mpapillary \u001b[36m[828]\u001b[0mnecrosis \u001b[36m[837]\u001b[0mis \u001b[36m[840]\u001b[0ma \u001b[36m[842]\u001b[0mcondition \u001b[36m[852]\u001b[0mthat \u001b[36m[857]\u001b[0mtypically \u001b[36m[867]\u001b[0mpresents \u001b[36m[876]\u001b[0mwith \u001b[36m[881]\u001b[0msevere \u001b[36m[888]\u001b[0mpain \u001b[36m[893]\u001b[0mand \u001b[36m[897]\u001b[0mhematuria\u001b[36m[906]\u001b[0m, \u001b[36m[908]\u001b[0mbut \u001b[36m[912]\u001b[0mit \u001b[36m[915]\u001b[0mis \u001b[36m[918]\u001b[0mnot \u001b[36m[922]\u001b[0mdirectly \u001b[36m[931]\u001b[0mrelated \u001b[36m[939]\u001b[0mto \u001b[36m[942]\u001b[0mthe \u001b[36m[946]\u001b[0mpatient\u001b[36m[953]\u001b[0m's \u001b[36m[956]\u001b[0mrecent \u001b[36m[963]\u001b[0mcardiac \u001b[36m[971]\u001b[0mcatheterization\u001b[36m[986]\u001b[0m.\u001b[36m[987]\u001b[0m\n",
      "\n",
      "\u001b[36m[989]\u001b[0mC. \u001b[36m[992]\u001b[0mEosinophilic \u001b[36m[1005]\u001b[0mgranulomatosis \u001b[36m[1020]\u001b[0mwith \u001b[36m[1025]\u001b[0mpolyangiitis \u001b[36m[1038]\u001b[0m(\u001b[36m[1039]\u001b[0mEGPA\u001b[36m[1043]\u001b[0m) \u001b[36m[1045]\u001b[0mis \u001b[36m[1048]\u001b[0ma \u001b[36m[1050]\u001b[0mrare \u001b[36m[1055]\u001b[0mautoimmune \u001b[36m[1066]\u001b[0mdisease \u001b[36m[1074]\u001b[0mthat \u001b[36m[1079]\u001b[0mcan \u001b[36m[1083]\u001b[0mcause \u001b[36m[1089]\u001b[0mkidney \u001b[36m[1096]\u001b[0mdamage\u001b[36m[1102]\u001b[0m, \u001b[36m[1104]\u001b[0mbut \u001b[36m[1108]\u001b[0mit \u001b[36m[1111]\u001b[0mis \u001b[36m[1114]\u001b[0mnot \u001b[36m[1118]\u001b[0mtypically \u001b[36m[1128]\u001b[0massociated \u001b[36m[1139]\u001b[0mwith \u001b[36m[1144]\u001b[0mthe \u001b[36m[1148]\u001b[0mpatient\u001b[36m[1155]\u001b[0m's \u001b[36m[1158]\u001b[0mrecent \u001b[36m[1165]\u001b[0mcardiac \u001b[36m[1173]\u001b[0mprocedure\u001b[36m[1182]\u001b[0m.\u001b[36m[1183]\u001b[0m\n",
      "\n",
      "\u001b[36m[1185]\u001b[0mD. \u001b[36m[1188]\u001b[0mPolyarteritis \u001b[36m[1202]\u001b[0mnodosa \u001b[36m[1209]\u001b[0m(\u001b[36m[1210]\u001b[0mPAN\u001b[36m[1213]\u001b[0m) \u001b[36m[1215]\u001b[0mis \u001b[36m[1218]\u001b[0ma \u001b[36m[1220]\u001b[0msystemic \u001b[36m[1229]\u001b[0mvasculitis \u001b[36m[1240]\u001b[0mthat \u001b[36m[1245]\u001b[0mcan \u001b[36m[1249]\u001b[0mcause \u001b[36m[1255]\u001b[0mkidney \u001b[36m[1262]\u001b[0mdamage\u001b[36m[1268]\u001b[0m, \u001b[36m[1270]\u001b[0mbut \u001b[36m[1274]\u001b[0mit \u001b[36m[1277]\u001b[0mis \u001b[36m[1280]\u001b[0mnot \u001b[36m[1284]\u001b[0mdirectly \u001b[36m[1293]\u001b[0mrelated \u001b[36m[1301]\u001b[0mto \u001b[36m[1304]\u001b[0mthe \u001b[36m[1308]\u001b[0mpatient\u001b[36m[1315]\u001b[0m's \u001b[36m[1318]\u001b[0mrecent \u001b[36m[1325]\u001b[0mcardiac \u001b[36m[1333]\u001b[0mcatheterization \u001b[36m[1349]\u001b[0mand \u001b[36m[1353]\u001b[0mthe \u001b[36m[1357]\u001b[0mpresence \u001b[36m[1366]\u001b[0mof \u001b[36m[1369]\u001b[0mcholesterol \u001b[36m[1381]\u001b[0mcrystals \u001b[36m[1390]\u001b[0min \u001b[36m[1393]\u001b[0mthe \u001b[36m[1397]\u001b[0mrenal \u001b[36m[1403]\u001b[0mvessels\u001b[36m[1410]\u001b[0m.\u001b[36m[1411]\u001b[0m\n",
      "\n",
      "\u001b[36m[1413]\u001b[0mTherefore\u001b[36m[1422]\u001b[0m, \u001b[36m[1424]\u001b[0mthe \u001b[36m[1428]\u001b[0mresident \u001b[36m[1437]\u001b[0mshould \u001b[36m[1444]\u001b[0mconsider \u001b[36m[1453]\u001b[0mcholesterol \u001b[36m[1465]\u001b[0membolization \u001b[36m[1478]\u001b[0msyndrome \u001b[36m[1487]\u001b[0mas \u001b[36m[1490]\u001b[0mthe \u001b[36m[1494]\u001b[0mlikely \u001b[36m[1501]\u001b[0mdiagnosis \u001b[36m[1511]\u001b[0mand \u001b[36m[1515]\u001b[0mtake \u001b[36m[1520]\u001b[0mappropriate \u001b[36m[1532]\u001b[0mmeasures \u001b[36m[1541]\u001b[0mto \u001b[36m[1544]\u001b[0mmanage \u001b[36m[1551]\u001b[0mthe \u001b[36m[1555]\u001b[0mpatient\u001b[36m[1562]\u001b[0m's \u001b[36m[1565]\u001b[0mcondition.<|eot_id|\u001b[36m[1584]\u001b[0m>\n"
     ]
    }
   ],
   "source": [
    "print(cc.response_with_indices)"
   ]
  },
  {
   "cell_type": "markdown",
   "id": "9567eb68",
   "metadata": {},
   "source": [
    "For example, we can attribute a part of the response like so:"
   ]
  },
  {
   "cell_type": "code",
   "execution_count": 35,
   "id": "0d109dce",
   "metadata": {},
   "outputs": [
    {
     "name": "stdout",
     "output_type": "stream",
     "text": [
      "Attributed: Based on the patient's symptoms and laboratory results, the correct next action for the resident to take is:\n",
      "\n",
      "B. Cholesterol embolization\n"
     ]
    },
    {
     "name": "stderr",
     "output_type": "stream",
     "text": [
      "/root/autodl-tmp/context-cite/context_cite/utils.py:192: FutureWarning: Styler.applymap has been deprecated. Use Styler.map instead.\n",
      "  return df.style.applymap(lambda val: _color_scale(val, max_val), subset=[\"Score\"])\n"
     ]
    },
    {
     "data": {
      "text/html": [
       "<style type=\"text/css\">\n",
       "#T_8fb28_row0_col0 {\n",
       "  background-color: rgb(80, 180, 80);\n",
       "}\n",
       "#T_8fb28_row1_col0 {\n",
       "  background-color: rgb(np.float64(200.18228392048005), np.float64(231.50669310877717), np.float64(200.18228392048005));\n",
       "}\n",
       "#T_8fb28_row2_col0 {\n",
       "  background-color: rgb(np.float64(201.21811037524176), np.float64(231.95061873224648), np.float64(201.21811037524176));\n",
       "}\n",
       "#T_8fb28_row3_col0 {\n",
       "  background-color: rgb(np.float64(215.8952429654455), np.float64(238.24081841376236), np.float64(215.8952429654455));\n",
       "}\n",
       "#T_8fb28_row4_col0 {\n",
       "  background-color: rgb(np.float64(227.86494994588605), np.float64(243.37069283395115), np.float64(227.86494994588605));\n",
       "}\n",
       "</style>\n",
       "<table id=\"T_8fb28\">\n",
       "  <thead>\n",
       "    <tr>\n",
       "      <th class=\"blank level0\" >&nbsp;</th>\n",
       "      <th id=\"T_8fb28_level0_col0\" class=\"col_heading level0 col0\" >Score</th>\n",
       "      <th id=\"T_8fb28_level0_col1\" class=\"col_heading level0 col1\" >Source</th>\n",
       "    </tr>\n",
       "  </thead>\n",
       "  <tbody>\n",
       "    <tr>\n",
       "      <th id=\"T_8fb28_level0_row0\" class=\"row_heading level0 row0\" >0</th>\n",
       "      <td id=\"T_8fb28_row0_col0\" class=\"data row0 col0\" >2.964</td>\n",
       "      <td id=\"T_8fb28_row0_col1\" class=\"data row0 col1\" >Two weeks after undergoing an emergency cardiac catherization with stenting for unstable angina pectoris, a 61-year-old man has decreased urinary output and malaise.</td>\n",
       "    </tr>\n",
       "    <tr>\n",
       "      <th id=\"T_8fb28_level0_row1\" class=\"row_heading level0 row1\" >1</th>\n",
       "      <td id=\"T_8fb28_row1_col0\" class=\"data row1 col0\" >0.928</td>\n",
       "      <td id=\"T_8fb28_row1_col1\" class=\"data row1 col1\" >He has type 2 diabetes mellitus and osteoarthritis of the hips.</td>\n",
       "    </tr>\n",
       "    <tr>\n",
       "      <th id=\"T_8fb28_level0_row2\" class=\"row_heading level0 row2\" >2</th>\n",
       "      <td id=\"T_8fb28_row2_col0\" class=\"data row2 col0\" >0.911</td>\n",
       "      <td id=\"T_8fb28_row2_col1\" class=\"data row2 col1\" >Examination shows mottled, reticulated purplish discoloration of the feet.</td>\n",
       "    </tr>\n",
       "    <tr>\n",
       "      <th id=\"T_8fb28_level0_row3\" class=\"row_heading level0 row3\" >3</th>\n",
       "      <td id=\"T_8fb28_row3_col0\" class=\"data row3 col0\" >0.662</td>\n",
       "      <td id=\"T_8fb28_row3_col1\" class=\"data row3 col1\" >His temperature is 38°C (100.4°F), pulse is 93\\/min, and blood pressure is 125\\/85 mm Hg.</td>\n",
       "    </tr>\n",
       "    <tr>\n",
       "      <th id=\"T_8fb28_level0_row4\" class=\"row_heading level0 row4\" >4</th>\n",
       "      <td id=\"T_8fb28_row4_col0\" class=\"data row4 col0\" >0.460</td>\n",
       "      <td id=\"T_8fb28_row4_col1\" class=\"data row4 col1\" >Laboratory studies show:</td>\n",
       "    </tr>\n",
       "  </tbody>\n",
       "</table>\n"
      ],
      "text/plain": [
       "<pandas.io.formats.style.Styler at 0x7f531b1be050>"
      ]
     },
     "execution_count": 35,
     "metadata": {},
     "output_type": "execute_result"
    }
   ],
   "source": [
    "start, end = 0, 137     # first sentence\n",
    "# start, end = 1413, 1584 # last sentence. NOTE: largely depend on previously generated text, thus don't indicate context attribution\n",
    "cc.get_attributions(start_idx=start, end_idx=end, as_dataframe=True, top_k=5)"
   ]
  }
 ],
 "metadata": {
  "kernelspec": {
   "display_name": "contextcite-custom",
   "language": "python",
   "name": "python3"
  },
  "language_info": {
   "codemirror_mode": {
    "name": "ipython",
    "version": 3
   },
   "file_extension": ".py",
   "mimetype": "text/x-python",
   "name": "python",
   "nbconvert_exporter": "python",
   "pygments_lexer": "ipython3",
   "version": "3.11.11"
  }
 },
 "nbformat": 4,
 "nbformat_minor": 5
}
